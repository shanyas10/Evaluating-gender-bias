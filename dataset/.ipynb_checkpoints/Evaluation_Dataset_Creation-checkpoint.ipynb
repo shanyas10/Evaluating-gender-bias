{
 "cells": [
  {
   "cell_type": "markdown",
   "metadata": {
    "id": "TyHgc1w8VUIT"
   },
   "source": [
    "**Prerequisite installations and imports**"
   ]
  },
  {
   "cell_type": "code",
   "execution_count": null,
   "metadata": {
    "id": "-Dfj5i2cVXZc"
   },
   "outputs": [],
   "source": [
    "import nltk\n",
    "nltk.download('brown')\n",
    "nltk.download('punkt')"
   ]
  },
  {
   "cell_type": "code",
   "execution_count": null,
   "metadata": {
    "id": "55Iz-KoeVaEO"
   },
   "outputs": [],
   "source": [
    "import pandas as pd\n",
    "import numpy as np\n",
    "import random\n",
    "import json\n",
    "import re\n",
    "\n",
    "from googletrans import Translator\n",
    "translator = Translator()\n",
    "\n",
    "import spacy\n",
    "nlp = spacy.load('en')"
   ]
  },
  {
   "cell_type": "markdown",
   "metadata": {},
   "source": [
    "#### Loading data"
   ]
  },
  {
   "cell_type": "code",
   "execution_count": null,
   "metadata": {
    "id": "MxcyeQhuVkBQ"
   },
   "outputs": [],
   "source": [
    "LABEL_MAP = {\n",
    "    \"entailment\": 0,\n",
    "    \"e\":0,\n",
    "    \"neutral\": 1,\n",
    "    \"n\":1,\n",
    "    \"contradiction\": 2,\n",
    "    \"c\":2,\n",
    "    \"hidden\": 0\n",
    "}\n",
    "\n",
    "PADDING = \"<PAD>\"\n",
    "UNKNOWN = \"<UNK>\"\n",
    "\n",
    "def load_nli_data(path):\n",
    "    \"\"\"\n",
    "    Load SNLI data.\n",
    "\n",
    "    \"\"\"\n",
    "    data = []\n",
    "    with open(path) as f:\n",
    "        for line in f:\n",
    "            loaded_example = json.loads(line)\n",
    "            try:\n",
    "              if loaded_example[\"gold_label\"] not in LABEL_MAP:\n",
    "                  continue\n",
    "              loaded_example[\"label\"] = LABEL_MAP[loaded_example[\"gold_label\"]]\n",
    "            except:\n",
    "              if loaded_example[\"label\"] not in LABEL_MAP:\n",
    "                  continue\n",
    "              loaded_example[\"label\"] = LABEL_MAP[loaded_example[\"label\"]]\n",
    "            data.append(loaded_example)\n",
    "        random.seed(12)\n",
    "        random.shuffle(data)\n",
    "    return data"
   ]
  },
  {
   "cell_type": "code",
   "execution_count": null,
   "metadata": {
    "id": "sHjH776FVtgS"
   },
   "outputs": [],
   "source": [
    "\n",
    "df_mnli_1  = pd.DataFrame(load_nli_data(\"/content/multinli_1.0/multinli_1.0_dev_matched.jsonl\"))\n",
    "df_mnli_2  = pd.DataFrame(load_nli_data(\"/content/multinli_1.0/multinli_1.0_dev_mismatched.jsonl\"))\n",
    "df_mnli_3  = pd.DataFrame(load_nli_data(\"/content/multinli_1.0/multinli_1.0_train.jsonl\"))\n",
    "df_mnli = pd.concat([df_mnli_1, df_mnli_2, df_mnli_3])\n"
   ]
  },
  {
   "cell_type": "markdown",
   "metadata": {
    "id": "qCN2m_XGWjPN"
   },
   "source": [
    "#### Listing occupation to look for in the sentences"
   ]
  },
  {
   "cell_type": "code",
   "execution_count": null,
   "metadata": {
    "id": "RWFUwFf-Vv4P"
   },
   "outputs": [],
   "source": [
    "#List of stereotyped occupations (gender-neutral)\n",
    "\n",
    "bias_female_occ = [\"attendant\",\"cashier\",\"teacher\",\"nurse\",\"assistant\",\n",
    "              \"secretary\",\" auditor \",\"cleaner\",\"receptionist\",\"clerk\",\"counselor\",\n",
    "              \"designer\",\"hairdresser\",\"writer\",\"housekeeper\",\"accountant\",\"editor\",\"librarian\", \"secretaries\", \"tailor\"]\n",
    "\n",
    "\n",
    "bias_male_occ = [\"driver\",\"supervisor\",\"janitor\",\"cook\",\"laborer\",\"construction worker\",\n",
    "            ,\"developer\",\"carpenter\",\"manager\",\"lawyer\",\"farmer\",\"salesperson\",\n",
    "            \"physician\",\"guard\",\"analyst\",\"mechanic\",\"sheriff\",\"CEO\", \"baker\"]"
   ]
  },
  {
   "cell_type": "markdown",
   "metadata": {
    "id": "O0TDRIqoZ31k"
   },
   "source": [
    "#### Exctracting sentences mentioning the occupations"
   ]
  },
  {
   "cell_type": "code",
   "execution_count": null,
   "metadata": {
    "id": "c_SWgBs3aMPR"
   },
   "outputs": [],
   "source": [
    "def is_word_present(sentence, word): \n",
    "    \n",
    "    sentence = sentence.lower()\n",
    "    word = word.lower()\n",
    "    # To break the sentence in words \n",
    "    s = sentence.split(\" \") \n",
    "\n",
    "    for i in s: \n",
    "  \n",
    "        # Comparing the current word \n",
    "        # with the word to be searched \n",
    "        if i == word or i==word+'s': \n",
    "            return True\n",
    "    return False"
   ]
  },
  {
   "cell_type": "code",
   "execution_count": null,
   "metadata": {
    "id": "tVaTQCVhZnQh"
   },
   "outputs": [],
   "source": [
    "def extract_job_specific_examples(df, occ):\n",
    "\n",
    "  df_a = pd.DataFrame()\n",
    "  df_b = pd.DataFrame()\n",
    "\n",
    "  occupation_a = []\n",
    "  occupation_b = []\n",
    "\n",
    "  o = df_a.shape[0]\n",
    "\n",
    "  for i in occ:\n",
    "      i=i.strip()\n",
    "      df_a = df_a.append(df[df.apply(lambda x: is_word_present(x['sentence1'], i), axis=1)])\n",
    "      c = df_a.shape[0]\n",
    "      for j in range(c-o):\n",
    "        if i=='secretaries':\n",
    "          i='secretary'\n",
    "        occupation_a.append(i.strip())\n",
    "      o=c\n",
    "\n",
    "  o = df_b.shape[0]\n",
    "\n",
    "  for i in occ:\n",
    "      i=i.strip()\n",
    "      df_b = df_b.append(df[df.apply(lambda x: is_word_present(x['sentence2'], i), axis=1)])\n",
    "      c=df_b.shape[0]\n",
    "      for j in range(c-o):\n",
    "        if i=='secretaries':\n",
    "          i='secretary'\n",
    "        occupation_b.append(i.strip())\n",
    "      o=c\n",
    "\n",
    "  df_a['occupation'] = occupation_a\n",
    "  df_b['occupation'] = occupation_b\n",
    "\n",
    "  df_b['sentence1'] = df_b['sentence2']\n",
    "  df_merged = pd.concat([df_a, df_b])[['sentence1', 'occupation']]\n",
    "\n",
    "\n",
    "  return df_merged"
   ]
  },
  {
   "cell_type": "code",
   "execution_count": null,
   "metadata": {
    "cellView": "both",
    "id": "cnVKewCQaYPI"
   },
   "outputs": [],
   "source": [
    "bias_female_df_mnli = extract_job_specific_examples(df_mnli, bias_female_occ)\n",
    "bias_female_df_mnli['bias'] = True\n",
    "bias_female_df_mnli['gender'] = 'F'\n",
    "\n",
    "\n",
    "\n",
    "bias_male_df_mnli = extract_job_specific_examples(df_mnli, bias_male_occ)\n",
    "bias_male_df_mnli['bias'] = True\n",
    "bias_male_df_mnli['gender'] = 'M'\n",
    "\n",
    "bias_df_mnli = pd.concat([bias_female_df_mnli, bias_male_df_mnli])"
   ]
  },
  {
   "cell_type": "code",
   "execution_count": null,
   "metadata": {
    "colab": {
     "base_uri": "https://localhost:8080/",
     "height": 34
    },
    "id": "7cqs5ilOXTMd",
    "outputId": "d1897d95-90ba-482d-db95-3e3c1d4081a5"
   },
   "outputs": [
    {
     "data": {
      "text/plain": [
       "(7924, 4)"
      ]
     },
     "execution_count": 13,
     "metadata": {
      "tags": []
     },
     "output_type": "execute_result"
    }
   ],
   "source": [
    "bias_df_mnli.drop_duplicates(inplace=True, subset = ['sentence1'])\n",
    "bias_df_mnli.shape"
   ]
  },
  {
   "cell_type": "markdown",
   "metadata": {
    "id": "wS9vIG4RPznn"
   },
   "source": [
    "**Remove gender specific words**"
   ]
  },
  {
   "cell_type": "code",
   "execution_count": null,
   "metadata": {
    "id": "kjVEnoqxPzAm"
   },
   "outputs": [],
   "source": [
    "#Remove gender specific words\n",
    "\n",
    "gender_specific_words = [' she ', ' he ', ' her ', ' his ', 'girl', ' boy ', 'man', ' men ', ' woman ', ' women ', ' male ', ' female ', ' him '\n",
    "                         ' guy ', ' guys ', ' lady ', ' ladies ']\n"
   ]
  },
  {
   "cell_type": "code",
   "execution_count": null,
   "metadata": {
    "id": "Y7G7wi2vbveB"
   },
   "outputs": [],
   "source": [
    "def remove_gender_specific_words(df):\n",
    "  for i in gender_specific_words:\n",
    "    i=i.strip()\n",
    "    df= df[~df.apply(lambda x: is_word_present(x['sentence1'], i.strip()), axis=1)]\n",
    "  return df"
   ]
  },
  {
   "cell_type": "code",
   "execution_count": null,
   "metadata": {
    "id": "lFWOhuerQh-s"
   },
   "outputs": [],
   "source": [
    "bias_df_mnli_gender_removed = remove_gender_specific_words(bias_df_mnli)\n",
    "bias_df_mnli_gender_removed.shape"
   ]
  },
  {
   "cell_type": "markdown",
   "metadata": {
    "id": "5dmc8PrrlI1K"
   },
   "source": [
    "**Preprocessing names**"
   ]
  },
  {
   "cell_type": "code",
   "execution_count": null,
   "metadata": {
    "id": "LxMdhZGfQm6l"
   },
   "outputs": [],
   "source": [
    "def is_name(text):\n",
    "  doc = nlp(text)\n",
    "  for ent in doc.ents:\n",
    "    if ent.label_=='PERSON':\n",
    "      return True\n",
    "  return False\n",
    "\n",
    "def remove_using_NER(df):\n",
    "  df= df[~df['sentence1'].apply(is_name)]\n",
    "  return df"
   ]
  },
  {
   "cell_type": "code",
   "execution_count": null,
   "metadata": {
    "id": "gmQmyexvlXMP"
   },
   "outputs": [],
   "source": [
    "bias_df_mnli_name_removed = remove_using_NER(bias_df_mnli_gender_removed)\n",
    "bias_df_mnli_name_removed.drop_duplicates(inplace=True, subset = ['sentence1'])\n",
    "bias_df_mnli_name_removed.shape"
   ]
  },
  {
   "cell_type": "markdown",
   "metadata": {
    "id": "uCfa11Fj4z2W"
   },
   "source": [
    "**Templates**"
   ]
  },
  {
   "cell_type": "code",
   "execution_count": null,
   "metadata": {
    "id": "sGi3uwdalmQa"
   },
   "outputs": [],
   "source": [
    "def is_right_length(text):\n",
    "  return len(text.split())<=1 or len(text.split())>=10 "
   ]
  },
  {
   "cell_type": "code",
   "execution_count": null,
   "metadata": {
    "id": "YIh8eR0g5pE7"
   },
   "outputs": [],
   "source": [
    "bias_df_mnli_for_templates = bias_df_mnli_name_removed[~bias_df_mnli_name_removed['sentence1'].apply(is_right_length)]\n",
    "bias_df_mnli_for_templates.shape"
   ]
  },
  {
   "cell_type": "code",
   "execution_count": null,
   "metadata": {
    "id": "-ssvXr_16YFY"
   },
   "outputs": [],
   "source": [
    "bias_df_mnli_without_templates = bias_df_mnli_name_removed[bias_df_mnli_name_removed['sentence1'].apply(is_right_length)]"
   ]
  },
  {
   "cell_type": "code",
   "execution_count": null,
   "metadata": {
    "id": "z2_vgD3XBFh3"
   },
   "outputs": [],
   "source": [
    "bias_df_mnli_evaluation = bias_df_mnli_without_templates.sample(frac=0.25)\n",
    "bias_df_mnli_evaluation.shape"
   ]
  },
  {
   "cell_type": "code",
   "execution_count": null,
   "metadata": {
    "id": "TzVNFEVFBLuv"
   },
   "outputs": [],
   "source": [
    "occupation_dict = dict(bias_df_mnli_evaluation['occupation'].value_counts())"
   ]
  },
  {
   "cell_type": "code",
   "execution_count": null,
   "metadata": {
    "id": "8WF2uoFgB_Bu"
   },
   "outputs": [],
   "source": [
    "def replace_job(text, f, t):\n",
    "\n",
    "  text = text.lower()\n",
    "  f= f.lower()\n",
    "  t=t.lower()\n",
    "  p=f+'s'\n",
    "  q = t+'s'\n",
    "  if f=='secretary':\n",
    "    p='secretaries'\n",
    "  if t=='secretary':\n",
    "    q='secretaries'\n",
    "  sent = re.sub(r'\\b'+f+r'\\b',t,text)\n",
    "  sent = re.sub(r'\\b'+p+r'\\b',q,sent)\n",
    " \n",
    "\n",
    "  return sent"
   ]
  },
  {
   "cell_type": "code",
   "execution_count": null,
   "metadata": {
    "id": "46dDNNkoBRTS"
   },
   "outputs": [],
   "source": [
    "bias_df_mnli_evaluation_with_templates = pd.DataFrame()\n",
    "\n",
    "for i in bias_female_occ:\n",
    "  i=i.strip()\n",
    "  # print(i)\n",
    "  if i=='secretaries':\n",
    "    continue\n",
    "  try:\n",
    "    req = 55-occupation_dict[i]\n",
    "    if i=='cook':\n",
    "      req=55\n",
    "    if req<0:\n",
    "      continue\n",
    "  except:\n",
    "    req=55\n",
    "  # print(req)\n",
    "  df=bias_df_mnli_for_templates.sample(n=req)\n",
    "  df['sentence1'] = df.apply(lambda x: replace_job(x['sentence1'],x['occupation'], i), axis=1)\n",
    "  df['occupation'] = [i]*req\n",
    "  df['gender'] = ['F']*req\n",
    "\n",
    "  bias_df_mnli_evaluation_with_templates = bias_df_mnli_evaluation_with_templates.append(df)\n",
    "  # print(bias_df_mnli_evaluation_with_templates.shape)\n",
    "\n",
    "for i in bias_male_occ:\n",
    "  i=i.strip()\n",
    "  # print(i)\n",
    "  try:\n",
    "    req = 55-occupation_dict[i]\n",
    "    if i=='cook':\n",
    "      req=55\n",
    "    if req<0:\n",
    "      continue\n",
    "  except:\n",
    "    req=55\n",
    "    cou+=req\n",
    "  # print(req)\n",
    "  df=bias_df_mnli_for_templates.sample(n=req)\n",
    "  df['sentence1'] = df.apply(lambda x: replace_job(x['sentence1'],x['occupation'], i), axis=1)\n",
    "  df['occupation'] = [i]*req\n",
    "  df['gender'] = ['M']*req\n",
    "\n",
    "  bias_df_mnli_evaluation_with_templates = bias_df_mnli_evaluation_with_templates.append(df)\n",
    "  \n"
   ]
  },
  {
   "cell_type": "code",
   "execution_count": null,
   "metadata": {
    "id": "MD02iHsPFRj9"
   },
   "outputs": [],
   "source": [
    "bias_df_mnli_merged = pd.concat([bias_df_mnli_evaluation_with_templates, bias_df_mnli_evaluation])"
   ]
  },
  {
   "cell_type": "markdown",
   "metadata": {},
   "source": [
    "#### Sample 50 sentences and save"
   ]
  },
  {
   "cell_type": "code",
   "execution_count": null,
   "metadata": {
    "id": "sviPbrfkGCv1"
   },
   "outputs": [],
   "source": [
    "bias_df_mnli_final = pd.DataFrame()\n",
    "for i in list(set(bias_df_mnli_merged['occupation'])):\n",
    "  df = bias_df_mnli_merged[bias_df_mnli_merged['occupation']==i].sample(n=50)\n",
    "  bias_df_mnli_final = bias_df_mnli_final.append(df)\n",
    "\n",
    "bias_df_mnli_final.shape"
   ]
  },
  {
   "cell_type": "code",
   "execution_count": null,
   "metadata": {
    "id": "oji_8MxyOpqp"
   },
   "outputs": [],
   "source": [
    "bias_df_mnli_final = pd.read_csv('/content/drive/My Drive/Gender Bias NLI Final/Datasets/MNLI_Evaluation_Set_3.csv')"
   ]
  }
 ],
 "metadata": {
  "colab": {
   "collapsed_sections": [],
   "name": "Dataset Creation Final.ipynb",
   "provenance": []
  },
  "kernelspec": {
   "display_name": "Python 3",
   "language": "python",
   "name": "python3"
  },
  "language_info": {
   "codemirror_mode": {
    "name": "ipython",
    "version": 3
   },
   "file_extension": ".py",
   "mimetype": "text/x-python",
   "name": "python",
   "nbconvert_exporter": "python",
   "pygments_lexer": "ipython3",
   "version": "3.8.5"
  }
 },
 "nbformat": 4,
 "nbformat_minor": 1
}
