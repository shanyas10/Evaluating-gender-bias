{
 "cells": [
  {
   "cell_type": "markdown",
   "metadata": {
    "id": "TyHgc1w8VUIT"
   },
   "source": [
    "**Prerequisite installations and imports**"
   ]
  },
  {
   "cell_type": "code",
   "execution_count": null,
   "metadata": {
    "id": "-Dfj5i2cVXZc"
   },
   "outputs": [],
   "source": [
    "import nltk\n",
    "nltk.download('brown')\n",
    "nltk.download('punkt')"
   ]
  },
  {
   "cell_type": "code",
   "execution_count": null,
   "metadata": {
    "id": "55Iz-KoeVaEO"
   },
   "outputs": [],
   "source": [
    "import pandas as pd\n",
    "import numpy as np\n",
    "import random\n",
    "import json\n",
    "import re\n"
   ]
  },
  {
   "cell_type": "markdown",
   "metadata": {},
   "source": [
    "#### Loading data"
   ]
  },
  {
   "cell_type": "code",
   "execution_count": null,
   "metadata": {
    "id": "MxcyeQhuVkBQ"
   },
   "outputs": [],
   "source": [
    "LABEL_MAP = {\n",
    "    \"entailment\": 0,\n",
    "    \"e\":0,\n",
    "    \"neutral\": 1,\n",
    "    \"n\":1,\n",
    "    \"contradiction\": 2,\n",
    "    \"c\":2,\n",
    "    \"hidden\": 0\n",
    "}\n",
    "\n",
    "PADDING = \"<PAD>\"\n",
    "UNKNOWN = \"<UNK>\"\n",
    "\n",
    "def load_nli_data(path):\n",
    "    \"\"\"\n",
    "    Load SNLI data.\n",
    "\n",
    "    \"\"\"\n",
    "    data = []\n",
    "    with open(path) as f:\n",
    "        for line in f:\n",
    "            loaded_example = json.loads(line)\n",
    "            try:\n",
    "              if loaded_example[\"gold_label\"] not in LABEL_MAP:\n",
    "                  continue\n",
    "              loaded_example[\"label\"] = LABEL_MAP[loaded_example[\"gold_label\"]]\n",
    "            except:\n",
    "              if loaded_example[\"label\"] not in LABEL_MAP:\n",
    "                  continue\n",
    "              loaded_example[\"label\"] = LABEL_MAP[loaded_example[\"label\"]]\n",
    "            data.append(loaded_example)\n",
    "        random.seed(12)\n",
    "        random.shuffle(data)\n",
    "    return data"
   ]
  },
  {
   "cell_type": "code",
   "execution_count": null,
   "metadata": {
    "colab": {
     "base_uri": "https://localhost:8080/",
     "height": 34
    },
    "id": "sHjH776FVtgS",
    "outputId": "e76aca10-b325-4fab-fbf7-649714eb981f"
   },
   "outputs": [
    {
     "name": "stdout",
     "output_type": "stream",
     "text": [
      "(549367, 11)\n"
     ]
    }
   ],
   "source": [
    "\n",
    "df_snli  = pd.DataFrame(load_nli_data(\"/content/snli_1.0/snli_1.0_train.jsonl\"))\n",
    "print(df_snli.shape)\n"
   ]
  },
  {
   "cell_type": "markdown",
   "metadata": {
    "id": "qCN2m_XGWjPN"
   },
   "source": [
    "#### Listing occupation to look for in the sentences"
   ]
  },
  {
   "cell_type": "code",
   "execution_count": null,
   "metadata": {
    "id": "RWFUwFf-Vv4P"
   },
   "outputs": [],
   "source": [
    "#List of stereotyped occupations (gender-neutral)\n",
    "\n",
    "bias_female_occ = [\"attendant\",\"cashier\",\"teacher\",\"nurse\",\"assistant\",\n",
    "              \"secretary\",\" auditor \",\"cleaner\",\"receptionist\",\"clerk\",\"counselor\",\n",
    "              \"designer\",\"hairdresser\",\"writer\",\"housekeeper\",\"accountant\",\"editor\",\"librarian\", \"secretaries\", \"tailor\"]\n",
    "\n",
    "\n",
    "bias_male_occ = [\"driver\",\"supervisor\",\"janitor\",\"cook\",\"laborer\",\"construction worker\",\n",
    "            \"developer\",\"carpenter\",\"manager\",\"lawyer\",\"farmer\",\"salesperson\",\n",
    "            \"physician\",\"guard\",\"analyst\",\"mechanic\",\"sheriff\",\"CEO\", \"baker\"]"
   ]
  },
  {
   "cell_type": "markdown",
   "metadata": {
    "id": "O0TDRIqoZ31k"
   },
   "source": [
    "#### Exctracting sentences mentioning the occupations"
   ]
  },
  {
   "cell_type": "code",
   "execution_count": null,
   "metadata": {
    "id": "c_SWgBs3aMPR"
   },
   "outputs": [],
   "source": [
    "def is_word_present(sentence, word): #Check for presence of word in single sentence\n",
    "  \n",
    "    sentence = sentence.lower()\n",
    "    word = word.lower()\n",
    "    # To break the sentence in words \n",
    "    s = sentence.split(\" \") \n",
    "\n",
    "    for i in s: \n",
    "  \n",
    "        # Comparing the current word \n",
    "        # with the word to be searched \n",
    "        if i == word or i==word+'s': \n",
    "          \n",
    "            return True\n",
    "    return False"
   ]
  },
  {
   "cell_type": "code",
   "execution_count": null,
   "metadata": {
    "id": "96fqKi6Ad14U"
   },
   "outputs": [],
   "source": [
    "def is_word_present_mul(sentence1, sentence2, word): #Check for the presence of word in 2 sentences (premise and hypothesis)\n",
    "  \n",
    "    sentence1 = sentence1.lower()\n",
    "    sentence2 = sentence2.lower()\n",
    "    i = word.lower()\n",
    "    # To break the sentence in words \n",
    "    s1 = sentence1.split(\" \") \n",
    "    s2 = sentence2.split(\" \")\n",
    "\n",
    "    if i in s1 or i in s2 or i+'s' in s1 or i+'s' in s2:\n",
    "      return True\n",
    "    return False"
   ]
  },
  {
   "cell_type": "code",
   "execution_count": null,
   "metadata": {
    "id": "tVaTQCVhZnQh"
   },
   "outputs": [],
   "source": [
    "def extract_job_specific_examples(df, occ):\n",
    "\n",
    "  df = pd.DataFrame()\n",
    "\n",
    "\n",
    "  occupation = []\n",
    "  o = df.shape[0]\n",
    "  for i in occ:\n",
    "      i=i.strip()\n",
    "      df = df.append(df_snli[df_snli.apply(lambda x: is_word_present(x['sentence1'], i), axis=1)])\n",
    "      c = df.shape[0]\n",
    "      for j in range(c-o):\n",
    "        if i=='secretaries':\n",
    "          i='secretary'\n",
    "        occupation.append(i.strip())\n",
    "      o=c\n",
    "\n",
    "  df['occupation'] = occupation\n",
    "  print(df.shape)\n",
    "  return df"
   ]
  },
  {
   "cell_type": "code",
   "execution_count": null,
   "metadata": {
    "cellView": "both",
    "colab": {
     "base_uri": "https://localhost:8080/",
     "height": 50
    },
    "id": "cnVKewCQaYPI",
    "outputId": "e8da8ec4-1885-4743-8b3d-f4060a1c97d7"
   },
   "outputs": [
    {
     "name": "stdout",
     "output_type": "stream",
     "text": [
      "(1089, 12)\n",
      "(2284, 12)\n"
     ]
    }
   ],
   "source": [
    "bias_female_df_snli = extract_job_specific_examples(df_snli, bias_female_occ)\n",
    "bias_female_df_snli['bias'] = True\n",
    "bias_female_df_snli['gender'] = 'F'\n",
    "\n",
    "\n",
    "\n",
    "bias_male_df_snli = extract_job_specific_examples(df_snli, bias_male_occ)\n",
    "bias_male_df_snli['bias'] = True\n",
    "bias_male_df_snli['gender'] = 'M'\n",
    "\n",
    "bias_df_snli = pd.concat([bias_female_df_snli, bias_male_df_snli])"
   ]
  },
  {
   "cell_type": "code",
   "execution_count": null,
   "metadata": {
    "colab": {
     "base_uri": "https://localhost:8080/",
     "height": 34
    },
    "id": "7cqs5ilOXTMd",
    "outputId": "239ee4ff-c081-4056-a989-ca29a0a97824"
   },
   "outputs": [
    {
     "data": {
      "text/plain": [
       "(892, 14)"
      ]
     },
     "execution_count": 67,
     "metadata": {
      "tags": []
     },
     "output_type": "execute_result"
    }
   ],
   "source": [
    "bias_df_snli.drop_duplicates(inplace=True, subset = ['sentence1'])\n",
    "bias_df_snli.shape"
   ]
  },
  {
   "cell_type": "markdown",
   "metadata": {
    "id": "wS9vIG4RPznn"
   },
   "source": [
    "**Swap gender specific words**"
   ]
  },
  {
   "cell_type": "code",
   "execution_count": null,
   "metadata": {
    "id": "kjVEnoqxPzAm"
   },
   "outputs": [],
   "source": [
    "#Gender specific words\n",
    "\n",
    "gender_specific_words = [' she ', ' he ', ' her ', ' his ', 'girl', ' boy ', 'man', ' men ', ' woman ', ' women ', ' male ', ' female ', ' him '\n",
    "                         ' guy ', ' guys ', ' lady ', ' ladies ']\n"
   ]
  },
  {
   "cell_type": "code",
   "execution_count": null,
   "metadata": {
    "id": "Y7G7wi2vbveB"
   },
   "outputs": [],
   "source": [
    "def remove_gender_specific_words(df):\n",
    "  for i in gender_specific_words:\n",
    "    i=i.strip()\n",
    "    df= df[~df.apply(lambda x: is_word_present_mul(x['sentence1'],x['sentence2'],i.strip()), axis=1)]\n",
    "  print(df.shape)\n",
    "  return df"
   ]
  },
  {
   "cell_type": "code",
   "execution_count": null,
   "metadata": {
    "colab": {
     "base_uri": "https://localhost:8080/",
     "height": 50
    },
    "id": "lFWOhuerQh-s",
    "outputId": "1f27bc30-1f80-4a89-db92-1095bf3d1f22"
   },
   "outputs": [
    {
     "name": "stdout",
     "output_type": "stream",
     "text": [
      "(422, 14)\n"
     ]
    },
    {
     "data": {
      "text/plain": [
       "(470, 14)"
      ]
     },
     "execution_count": 60,
     "metadata": {
      "tags": []
     },
     "output_type": "execute_result"
    }
   ],
   "source": [
    "bias_df_snli_gender_removed = remove_gender_specific_words(bias_df_snli)\n",
    "bias_df_snli_gender_inc = bias_df_snli[~bias_df_snli.sentence1.isin(bias_df_snli_gender_removed.sentence1)]\n",
    "bias_df_snli_gender_inc.shape"
   ]
  },
  {
   "cell_type": "code",
   "execution_count": null,
   "metadata": {
    "id": "r0q0OcZEkXVu"
   },
   "outputs": [],
   "source": [
    "gender_map = {'her':'his', 'him':'her', 'his':'her', 'he':'she', 'she':'he', 'girl':'boy', 'boy':'girl', \n",
    "              'man':'woman', 'woman':'man', 'men':'women', 'women': 'men', 'male':'female', 'female':'male', \n",
    "              'lady':'man', 'ladies':'men', 'guy':'girl', 'guys':'girls', 'boys':'girls', 'girls':'boys'}"
   ]
  },
  {
   "cell_type": "code",
   "execution_count": null,
   "metadata": {
    "id": "a94-RhmIkU_Y"
   },
   "outputs": [],
   "source": [
    "def replace_gender(text):\n",
    "  text=text.lower()\n",
    "  done={}\n",
    "  for i in gender_map.keys():\n",
    "    done[i]=0\n",
    "  for i,v in gender_map.items():\n",
    "    if done[v]==0:\n",
    "      sent = re.sub(r'\\b'+i+r'\\b',v,text)\n",
    "      if sent!=text:\n",
    "        done[i]=1\n",
    "    text=sent\n",
    "  # if (t not in sent.split()) and (q not in sent.split()):\n",
    "\n",
    "  return sent"
   ]
  },
  {
   "cell_type": "code",
   "execution_count": null,
   "metadata": {
    "colab": {
     "base_uri": "https://localhost:8080/",
     "height": 35
    },
    "id": "wcvoM_2nl7aO",
    "outputId": "ac017be4-91df-49c7-c925-543a4fd9abd5"
   },
   "outputs": [
    {
     "data": {
      "application/vnd.google.colaboratory.intrinsic+json": {
       "type": "string"
      },
      "text/plain": [
       "'the cashier wrinkled his nose and began to query his computerized register system.'"
      ]
     },
     "execution_count": 70,
     "metadata": {
      "tags": []
     },
     "output_type": "execute_result"
    }
   ],
   "source": [
    "replace_gender('the cashier wrinkled her nose and began to query her computerized register system.')"
   ]
  },
  {
   "cell_type": "code",
   "execution_count": null,
   "metadata": {
    "id": "xnDXcfR5fBc3"
   },
   "outputs": [],
   "source": [
    "bias_df_snli_gender_inc['sentence1'] = bias_df_snli_gender_inc['sentence1'].apply(replace_gender)\n",
    "bias_df_snli_gender_inc['sentence2'] = bias_df_snli_gender_inc['sentence2'].apply(replace_gender)"
   ]
  },
  {
   "cell_type": "code",
   "execution_count": null,
   "metadata": {
    "id": "r-FuBX-IilMP"
   },
   "outputs": [],
   "source": [
    "new_df_snli = pd.concat([bias_df_snli_gender_inc, df_snli])\n",
    "new_df_snli.drop_duplicates(inplace=True, subset = ['sentence1', 'sentence2'])\n"
   ]
  },
  {
   "cell_type": "markdown",
   "metadata": {},
   "source": [
    "#### Saving the dataset"
   ]
  },
  {
   "cell_type": "code",
   "execution_count": null,
   "metadata": {
    "id": "N6xZvcgElq_S"
   },
   "outputs": [],
   "source": [
    "new_df_snli.to_csv('/content/drive/My Drive/Gender Bias NLI Final/Datasets/snli_Augmented_Gender.csv')"
   ]
  },
  {
   "cell_type": "code",
   "execution_count": null,
   "metadata": {
    "id": "qwVG5mHTpdfU"
   },
   "outputs": [],
   "source": [
    "new_df_snli.head(10)"
   ]
  },
  {
   "cell_type": "code",
   "execution_count": null,
   "metadata": {
    "id": "Q9NBxG0YuHeb"
   },
   "outputs": [],
   "source": []
  }
 ],
 "metadata": {
  "colab": {
   "collapsed_sections": [],
   "name": "Augmentation Dataset Creation.ipynb",
   "provenance": []
  },
  "kernelspec": {
   "display_name": "Python 3",
   "language": "python",
   "name": "python3"
  },
  "language_info": {
   "codemirror_mode": {
    "name": "ipython",
    "version": 3
   },
   "file_extension": ".py",
   "mimetype": "text/x-python",
   "name": "python",
   "nbconvert_exporter": "python",
   "pygments_lexer": "ipython3",
   "version": "3.8.5"
  }
 },
 "nbformat": 4,
 "nbformat_minor": 1
}
